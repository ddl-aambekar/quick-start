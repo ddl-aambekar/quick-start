{
 "cells": [
  {
   "cell_type": "code",
   "execution_count": 15,
   "id": "exclusive-finder",
   "metadata": {},
   "outputs": [],
   "source": [
    "import json \n",
    "import csv \n",
    "\n",
    "filename = 'TopHardwareTiers' #etc\n",
    "\n",
    "# Open JSON file\n",
    "with open(filename+'.json') as json_file: \n",
    "    lines = json_file.readlines()\n",
    "\n",
    "# Open CSV file\n",
    "with open(filename+'.csv', 'w') as csv_file:\n",
    "    csv_writer = csv.writer(csv_file) \n",
    "\n",
    "    count = 0  \n",
    "    for line in lines: \n",
    "        data = json.loads(line)\n",
    "        \n",
    "        if count == 0:\n",
    "            # Writing headers \n",
    "            header = data.keys() \n",
    "            csv_writer.writerow(header) \n",
    "            count += 1\n",
    "        \n",
    "        # Writing data \n",
    "        csv_writer.writerow(data.values())"
   ]
  },
  {
   "cell_type": "code",
   "execution_count": null,
   "id": "coordinated-indiana",
   "metadata": {},
   "outputs": [],
   "source": []
  }
 ],
 "metadata": {
  "kernelspec": {
   "display_name": "Python 3",
   "language": "python",
   "name": "python3"
  },
  "language_info": {
   "codemirror_mode": {
    "name": "ipython",
    "version": 3
   },
   "file_extension": ".py",
   "mimetype": "text/x-python",
   "name": "python",
   "nbconvert_exporter": "python",
   "pygments_lexer": "ipython3",
   "version": "3.6.7"
  }
 },
 "nbformat": 4,
 "nbformat_minor": 5
}
